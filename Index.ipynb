{
 "cells": [
  {
   "cell_type": "markdown",
   "metadata": {},
   "source": [
    "# Introduction to image processing"
   ]
  },
  {
   "cell_type": "code",
   "execution_count": null,
   "metadata": {},
   "outputs": [],
   "source": []
  },
  {
   "cell_type": "code",
   "execution_count": 1,
   "metadata": {},
   "outputs": [],
   "source": [
    "from IPython.display import HTML, display\n",
    "from helpers import chapters_to_html"
   ]
  },
  {
   "cell_type": "code",
   "execution_count": 2,
   "metadata": {},
   "outputs": [
    {
     "data": {
      "text/html": [
       "<h1>\n",
       "Outline\n",
       "</h1>\n",
       "<ol start=0>\n",
       "<li><a href=\"./00-Preface/content.ipynb\">Preface</a></li><ol>\n",
       "<li><a href=\"./00-Preface/01-Aims.ipynb\">Aims</a></li><li><a href=\"./00-Preface/02-Integration.ipynb\">Integration</a></li><li><a href=\"./00-Preface/03-Get involved.ipynb\">Get involved</a></li><li><a href=\"./00-Preface/05-Practical works.ipynb\">Practical works</a></li><li><a href=\"./00-Preface/06-References.ipynb\">References</a></li></ol>\n",
       "<li><a href=\"./01-Introduction/content.ipynb\">Introduction</a></li><ol>\n",
       "<li><a href=\"./01-Introduction/01-Biological vision.ipynb\">Biological vision</a></li><li><a href=\"./01-Introduction/02-Image sensors.ipynb\">Image sensors</a></li><li><a href=\"./01-Introduction/03-Digital image.ipynb\">Digital image</a></li></ol>\n",
       "<li><a href=\"./02-Low-level image processing/content.ipynb\">Low-level image processing</a></li><ol>\n",
       "<li><a href=\"./02-Low-level image processing/01-Point processing.ipynb\">Point processing</a></li><li><a href=\"./02-Low-level image processing/02-Linear filtering.ipynb\">Linear filtering</a></li><li><a href=\"./02-Low-level image processing/03-Non linear filtering.ipynb\">Non linear filtering</a></li><li><a href=\"./02-Low-level image processing/04-Image restoration.ipynb\">Image restoration</a></li><li><a href=\"./02-Low-level image processing/05-Edge detection.ipynb\">Edge detection</a></li></ol>\n",
       "<li><a href=\"./03-Basic image analysis/content.ipynb\">Basic image analysis</a></li><ol>\n",
       "<li><a href=\"./03-Basic image analysis/01-Image processing chain.ipynb\">Image processing chain</a></li></ol>\n",
       "<li><a href=\"./04-Image segmentation/content.ipynb\">Image segmentation</a></li><ol>\n",
       "<li><a href=\"./04-Image segmentation/01-Histogram based image segmentation.ipynb\">Histogram based image segmentation</a></li><li><a href=\"./04-Image segmentation/02-Border-based segmentation.ipynb\">Border-based segmentation</a></li><li><a href=\"./04-Image segmentation/03-Region based segmentation.ipynb\">Region based segmentation</a></li><li><a href=\"./04-Image segmentation/04-Live-wire.ipynb\">Live-wire</a></li><li><a href=\"./04-Image segmentation/05-Active contour.ipynb\">Active contour</a></li><li><a href=\"./04-Image segmentation/06-Hough transform.ipynb\">Hough transform</a></li><li><a href=\"./04-Image segmentation/07-Examples.ipynb\">Examples</a></li></ol>\n",
       "<li><a href=\"./05-Morphomathematics/content.ipynb\">Morphomathematics</a></li><ol>\n",
       "<li><a href=\"./05-Morphomathematics/01-Operators.ipynb\">Operators</a></li><li><a href=\"./05-Morphomathematics/02-Combined operations.ipynb\">Combined operations</a></li><li><a href=\"./05-Morphomathematics/03-The watershed transform.ipynb\">The watershed transform</a></li><li><a href=\"./05-Morphomathematics/04-Gray level morphology.ipynb\">Gray level morphology</a></li></ol>\n",
       "<li><a href=\"./06-Object feature extraction/content.ipynb\">Object feature extraction</a></li><ol>\n",
       "<li><a href=\"./06-Object feature extraction/01-Statistical features.ipynb\">Statistical features</a></li><li><a href=\"./06-Object feature extraction/02-Contour features.ipynb\">Contour features</a></li><li><a href=\"./06-Object feature extraction/03-Moments.ipynb\">Moments</a></li><li><a href=\"./06-Object feature extraction/04-Texture features.ipynb\">Texture features</a></li></ol>\n",
       "<li><a href=\"./08-Vision/content.ipynb\">Vision</a></li><ol>\n",
       "</ol>\n",
       "<li><a href=\"./09-Object tracking/content.ipynb\">Object tracking</a></li><ol>\n",
       "</ol>\n",
       "<li><a href=\"./10-Object recognition/content.ipynb\">Object recognition</a></li><ol>\n",
       "</ol>\n"
      ],
      "text/plain": [
       "<IPython.core.display.HTML object>"
      ]
     },
     "execution_count": 2,
     "metadata": {},
     "output_type": "execute_result"
    }
   ],
   "source": [
    "HTML(chapters_to_html())"
   ]
  },
  {
   "cell_type": "code",
   "execution_count": 3,
   "metadata": {},
   "outputs": [
    {
     "data": {
      "image/svg+xml": [
       "<svg height=\"20\" width=\"81\" xmlns=\"http://www.w3.org/2000/svg\"><linearGradient id=\"a\" x2=\"0\" y2=\"100%\"><stop offset=\"0\" stop-color=\"#bbb\" stop-opacity=\".1\"/><stop offset=\"1\" stop-opacity=\".1\"/></linearGradient><rect fill=\"#555\" height=\"20\" rx=\"3\" width=\"81\"/><rect fill=\"#e05d44\" height=\"20\" rx=\"3\" width=\"44\" x=\"37\"/><path d=\"M37 0h4v20h-4z\" fill=\"#e05d44\"/><rect fill=\"url(#a)\" height=\"20\" rx=\"3\" width=\"81\"/><g fill=\"#fff\" font-family=\"DejaVu Sans,Verdana,Geneva,sans-serif\" font-size=\"11\" text-anchor=\"middle\"><text fill=\"#010101\" fill-opacity=\".3\" x=\"19.5\" y=\"15\">build</text><text x=\"19.5\" y=\"14\">build</text><text fill=\"#010101\" fill-opacity=\".3\" x=\"58\" y=\"15\">failing</text><text x=\"58\" y=\"14\">failing</text></g></svg>"
      ],
      "text/plain": [
       "<IPython.core.display.SVG object>"
      ]
     },
     "execution_count": 3,
     "metadata": {},
     "output_type": "execute_result"
    }
   ],
   "source": [
    "from IPython.display import SVG\n",
    "SVG('https://travis-ci.org/odebeir/info-h-500-501.svg?branch=master')"
   ]
  },
  {
   "cell_type": "code",
   "execution_count": 4,
   "metadata": {},
   "outputs": [
    {
     "name": "stdout",
     "output_type": "stream",
     "text": [
      "Last updated: 13/09/2020\n"
     ]
    },
    {
     "data": {
      "text/html": [
       "<script>code_show=true; \n",
       "    function code_toggle() {\n",
       "     if (code_show){$('div.input').hide();} else {$('div.input').show();}\n",
       "     code_show = !code_show}\n",
       "    $( document ).ready(code_toggle);</script>\n",
       "    <a href=\"javascript:code_toggle()\">show/hide source code</a>\n",
       "    "
      ],
      "text/plain": [
       "<IPython.core.display.HTML object>"
      ]
     },
     "execution_count": 4,
     "metadata": {},
     "output_type": "execute_result"
    }
   ],
   "source": [
    "%matplotlib inline\n",
    "import time\n",
    "print('Last updated: %s' %time.strftime('%d/%m/%Y'))\n",
    "import sys\n",
    "sys.path.insert(0,'..')\n",
    "from IPython.display import HTML\n",
    "from helpers import show_hide\n",
    "HTML(show_hide)"
   ]
  },
  {
   "cell_type": "code",
   "execution_count": 5,
   "metadata": {},
   "outputs": [
    {
     "data": {
      "text/html": [
       "<link href='http://fonts.googleapis.com/css?family=Fenix' rel='stylesheet' type='text/css'>\n",
       "<link href='http://fonts.googleapis.com/css?family=Alegreya+Sans:100,300,400,500,700,800,900,100italic,300italic,400italic,500italic,700italic,800italic,900italic' rel='stylesheet' type='text/css'>\n",
       "<link href='http://fonts.googleapis.com/css?family=Source+Code+Pro:300,400' rel='stylesheet' type='text/css'>\n",
       "<style>\n",
       "    @font-face {\n",
       "        font-family: \"Computer Modern\";\n",
       "        src: url('http://mirrors.ctan.org/fonts/cm-unicode/fonts/otf/cmunss.otf');\n",
       "    }\n",
       "    div.cell{\n",
       "        width:800px;\n",
       "        margin-left:1% !important;\n",
       "        margin-right:auto;\n",
       "    }\n",
       "    h1 {\n",
       "        font-family: 'Alegreya Sans', sans-serif;\n",
       "    }\n",
       "    h2 {\n",
       "        font-family: 'Fenix', serif;\n",
       "    }\n",
       "    h3{\n",
       "\t\tfont-family: 'Fenix', serif;\n",
       "        margin-top:12px;\n",
       "        margin-bottom: 3px;\n",
       "       }\n",
       "\th4{\n",
       "\t\tfont-family: 'Fenix', serif;\n",
       "       }\n",
       "    h5 {\n",
       "        font-family: 'Alegreya Sans', sans-serif;\n",
       "    }\t   \n",
       "    div.text_cell_render{\n",
       "        font-family: 'Alegreya Sans',Computer Modern, \"Helvetica Neue\", Arial, Helvetica, Geneva, sans-serif;\n",
       "        line-height: 135%;\n",
       "        font-size: 120%;\n",
       "        width:600px;\n",
       "        margin-left:auto;\n",
       "        margin-right:auto;\n",
       "    }\n",
       "    .CodeMirror{\n",
       "            font-family: \"Source Code Pro\";\n",
       "\t\t\tfont-size: 90%;\n",
       "    }\n",
       "    .prompt{\n",
       "        display: None;\n",
       "    }\n",
       "    .text_cell_render h1 {\n",
       "        font-weight: 200;\n",
       "        font-size: 50pt;\n",
       "\t\tline-height: 100%;\n",
       "        color:#CD2305;\n",
       "        margin-bottom: 0.5em;\n",
       "        margin-top: 0.5em;\n",
       "        display: block;\n",
       "    }\t\n",
       "    .text_cell_render h5 {\n",
       "        font-weight: 300;\n",
       "        font-size: 16pt;\n",
       "        color: #CD2305;\n",
       "        font-style: italic;\n",
       "        margin-bottom: .5em;\n",
       "        margin-top: 0.5em;\n",
       "        display: block;\n",
       "    }\n",
       "    \n",
       "    .warning{\n",
       "        color: rgb( 240, 20, 20 )\n",
       "        }\n",
       "    \n",
       "    ol ol li {\n",
       "        list-style-type: decimal;\n",
       "    }\n",
       "    /*ol {\n",
       "    counter-reset: num -1;\n",
       "    }\n",
       "    ol li {\n",
       "        list-style-type: none;\n",
       "    }\n",
       "    ol li:before {\n",
       "        counter-increment: num;\n",
       "        content: counter(num) \". \";\n",
       "    }*/\n",
       "</style>\n",
       "<script>\n",
       "    MathJax.Hub.Config({\n",
       "                        TeX: {\n",
       "                           extensions: [\"AMSmath.js\"]\n",
       "                           },\n",
       "                tex2jax: {\n",
       "                    inlineMath: [ ['$','$'], [\"\\\\(\",\"\\\\)\"] ],\n",
       "                    displayMath: [ ['$$','$$'], [\"\\\\[\",\"\\\\]\"] ]\n",
       "                },\n",
       "                displayAlign: 'center', // Change this to 'center' to center equations.\n",
       "                \"HTML-CSS\": {\n",
       "                    styles: {'.MathJax_Display': {\"margin\": 4}}\n",
       "                }\n",
       "        });\n",
       "</script>\n"
      ],
      "text/plain": [
       "<IPython.core.display.HTML object>"
      ]
     },
     "execution_count": 5,
     "metadata": {},
     "output_type": "execute_result"
    }
   ],
   "source": [
    "from IPython.core.display import HTML\n",
    "def css_styling():\n",
    "    styles = open(\"./styles/custom.css\", \"r\").read()\n",
    "    return HTML(styles)\n",
    "css_styling()"
   ]
  }
 ],
 "metadata": {
  "kernelspec": {
   "display_name": "Python 3",
   "language": "python",
   "name": "python3"
  },
  "language_info": {
   "codemirror_mode": {
    "name": "ipython",
    "version": 3
   },
   "file_extension": ".py",
   "mimetype": "text/x-python",
   "name": "python",
   "nbconvert_exporter": "python",
   "pygments_lexer": "ipython3",
   "version": "3.7.7"
  }
 },
 "nbformat": 4,
 "nbformat_minor": 1
}
